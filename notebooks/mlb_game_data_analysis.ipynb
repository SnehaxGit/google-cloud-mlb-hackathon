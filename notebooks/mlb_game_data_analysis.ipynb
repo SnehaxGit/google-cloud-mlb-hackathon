# notebooks/mlb_game_data_analysis.ipynb

import pandas as pd
import matplotlib.pyplot as plt

# Load player stats data
player_stats = pd.read_csv("../data/player_stats.csv")

# Display top 10 players based on position
top_players = player_stats.groupby("position").size().sort_values(ascending=False).head(10)
top_players.plot(kind='bar')
plt.title("Top 10 Player Positions in MLB Game")
plt.ylabel("Count")
plt.xlabel("Position")
plt.show()
